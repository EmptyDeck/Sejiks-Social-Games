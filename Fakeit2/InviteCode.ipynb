{
 "cells": [
  {
   "cell_type": "code",
   "execution_count": 2,
   "id": "e00400d6",
   "metadata": {},
   "outputs": [],
   "source": [
    "# 사용할 알파벳: 총 24개\n",
    "ALPHABETS = [chr(c) for c in range(97, 123) if chr(c) not in ('i', 'l')]  # 'a' ~ 'z' 중 'i', 'l' 제외\n",
    "BASE = len(ALPHABETS)  # 24\n",
    "\n",
    "def number_to_index(num1, num2, num3, num4, num5, num6):\n",
    "    # num1: 1~17, num2: 1~15, num3~6: 1~6\n",
    "    idx = (((num1 - 1) * 15 + (num2 - 1)) * 1296 +\n",
    "           ((num3 - 1) * 216 + (num4 - 1) * 36 + (num5 - 1) * 6 + (num6 - 1)))\n",
    "    return idx\n",
    "\n",
    "def index_to_number(idx):\n",
    "    n1 = idx // (15 * 1296) + 1\n",
    "    rem = idx % (15 * 1296)\n",
    "    n2 = rem // 1296 + 1\n",
    "    rem = rem % 1296\n",
    "    n3 = rem // 216 + 1\n",
    "    rem %= 216\n",
    "    n4 = rem // 36 + 1\n",
    "    rem %= 36\n",
    "    n5 = rem // 6 + 1\n",
    "    n6 = rem % 6 + 1\n",
    "    return (n1, n2, n3, n4, n5, n6)\n",
    "\n",
    "def index_to_code(idx):\n",
    "    chars = []\n",
    "    for _ in range(4):\n",
    "        chars.append(ALPHABETS[idx % BASE])\n",
    "        idx //= BASE\n",
    "    return ''.join(reversed(chars))\n",
    "\n",
    "def code_to_index(code):\n",
    "    idx = 0\n",
    "    for c in code:\n",
    "        idx = idx * BASE + ALPHABETS.index(c)\n",
    "    return idx\n",
    "\n",
    "def code_to_number(code):\n",
    "    return index_to_number(code_to_index(code))\n",
    "\n",
    "def number_to_code(n1, n2, n3, n4, n5, n6):\n",
    "    idx = number_to_index(n1, n2, n3, n4, n5, n6)\n",
    "    return index_to_code(idx)\n"
   ]
  },
  {
   "cell_type": "code",
   "execution_count": null,
   "id": "8606735a",
   "metadata": {},
   "outputs": [
    {
     "name": "stdout",
     "output_type": "stream",
     "text": [
      "cwaf\n",
      "(18, 1, 6, 6, 6, 6)\n"
     ]
    }
   ],
   "source": [
    "print(number_to_code(3, 1, 2, 3, 1, 6))  # 가장 큰 숫자 → 'zzzz'\n",
    "print(code_to_number('zzzz'))             # → (17, 15, 6, 6, 6, 6)"
   ]
  }
 ],
 "metadata": {
  "kernelspec": {
   "display_name": "fart",
   "language": "python",
   "name": "python3"
  },
  "language_info": {
   "codemirror_mode": {
    "name": "ipython",
    "version": 3
   },
   "file_extension": ".py",
   "mimetype": "text/x-python",
   "name": "python",
   "nbconvert_exporter": "python",
   "pygments_lexer": "ipython3",
   "version": "3.12.2"
  }
 },
 "nbformat": 4,
 "nbformat_minor": 5
}
